{
 "cells": [
  {
   "attachments": {},
   "cell_type": "markdown",
   "metadata": {},
   "source": [
    "## Loading libraries"
   ]
  },
  {
   "cell_type": "code",
   "execution_count": 1,
   "metadata": {},
   "outputs": [],
   "source": [
    "from aiida import load_profile, orm\n",
    "## Indicate your profile name here\n",
    "your_profile_name = 'diffusion'\n",
    "load_profile(your_profile_name) \n",
    "from aiida.plugins import WorkflowFactory\n",
    "from aiida.engine import submit"
   ]
  },
  {
   "attachments": {},
   "cell_type": "markdown",
   "metadata": {},
   "source": [
    "## Loading the code and structure"
   ]
  },
  {
   "cell_type": "code",
   "execution_count": 22,
   "metadata": {},
   "outputs": [
    {
     "data": {
      "text/plain": [
       "<WorkChainNode: uuid: ce46e557-c646-4305-94ed-45e52995bdc8 (pk: 110535) (aiida.workflows:quantumespresso.ocv.ocvwc)>"
      ]
     },
     "execution_count": 22,
     "metadata": {},
     "output_type": "execute_result"
    }
   ],
   "source": [
    "## AiiDA code that will run Quantum ESPRESSO on the cluster\n",
    "code = orm.load_code(label='pw_7_eiger@eiger')\n",
    "\n",
    "## default parameters\n",
    "time, num_machines, num_mpiprocs_per_machine, num_cores_per_mpiproc, npool = 43200, 2, 128, 1, 8\n",
    "\n",
    "## overrides defining pseudopotentials \n",
    "overrides = {\"ocv_relax\":{\n",
    "                \"base\":{\n",
    "                    \"pseudo_family\": \"SSSP/1.1.2/PBEsol/efficiency\",\n",
    "                    \"pw\":{\n",
    "                        \"parallelization\":{\n",
    "                            \"npool\": npool},}},\n",
    "                \"base_final_scf\":{\n",
    "                    \"pseudo_family\": \"SSSP/1.1.2/PBEsol/efficiency\",\n",
    "                    \"pw\":{\n",
    "                        \"parallelization\":{\n",
    "                            \"npool\": npool},}}},\n",
    "            \"scf\":{\n",
    "                \"pseudo_family\": \"SSSP/1.1.2/PBEsol/efficiency\",\n",
    "                \"pw\":{\n",
    "                    \"parallelization\":{\n",
    "                        \"npool\": int(npool/num_machines)},}},}\n",
    "\n",
    "## Load one of the 3 bundled test structures here\n",
    "structure = orm.load_node('3dd4a60a-a5d5-48b6-a8b1-3e082664622a') # LiFePO4 \n",
    "# structure = orm.load_node('096d9d96-7f66-442b-a27f-2660572808ea') # LiCoO2\n",
    "# structure = orm.load_node('c0537852-7300-43ea-af99-7813eea8a167') # MgMo3S4 \n",
    "\n",
    "## Load either the Li or Mg bulk cation structure here depending on the above ``structure``\n",
    "bulk_cation_structure = orm.load_node('faea3c48-789f-4076-af73-0cf9242bb7b2 ') # Li\n",
    "# bulk_cation_structure = orm.load_node('df0a8dda-3d84-44d6-8b97-069ee8d0a62e') # Mg"
   ]
  },
  {
   "attachments": {},
   "cell_type": "markdown",
   "metadata": {},
   "source": [
    "## Launching OCVWorkChain"
   ]
  },
  {
   "attachments": {},
   "cell_type": "markdown",
   "metadata": {},
   "source": [
    "### Using a default protocol"
   ]
  },
  {
   "cell_type": "code",
   "execution_count": 21,
   "metadata": {},
   "outputs": [],
   "source": [
    "## Defining the OCVWorkChain with some suggested parameters\n",
    "\n",
    "def submit_OCV_workchain(structure, code, bulk_cation_structure=None, discharged_unitcell_relaxed=None, charged_unitcell_relaxed=None, time=time, num_machines=num_machines, \n",
    "num_mpiprocs_per_machine=num_mpiprocs_per_machine, num_cores_per_mpiproc=num_cores_per_mpiproc):\n",
    "\n",
    "    OCVWorkChain = WorkflowFactory('quantumespresso.ocv.ocvwc')\n",
    "\n",
    "    builder = OCVWorkChain.get_builder_from_protocol(code=code, structure=structure, bulk_cation_structure=bulk_cation_structure, \n",
    "    discharged_unitcell_relaxed=discharged_unitcell_relaxed, charged_unitcell_relaxed=charged_unitcell_relaxed, overrides=overrides, protocol='fast')    \n",
    "\n",
    "    builder.update({'clean_workdir':orm.Bool(False)})\n",
    "\n",
    "    builder.ocv_relax.base.pw.parallelization = orm.Dict(dict={'npool': npool})\n",
    "    builder.ocv_relax.base_final_scf.pw.parallelization = orm.Dict(dict={'npool': npool})\n",
    "\n",
    "    builder.ocv_relax['base']['pw']['metadata']['options'].update({'max_wallclock_seconds': time})\n",
    "    builder.ocv_relax['base']['pw']['metadata']['options']['resources']['num_machines'] = num_machines\n",
    "    builder.ocv_relax['base']['pw']['metadata']['options']['resources']['num_mpiprocs_per_machine'] = num_mpiprocs_per_machine\n",
    "    builder.ocv_relax['base']['pw']['metadata']['options']['resources']['num_cores_per_mpiproc'] = num_cores_per_mpiproc\n",
    "    builder.ocv_relax['base']['pw']['parameters']['ELECTRONS']['electron_maxstep'] = 200\n",
    "\n",
    "    builder.ocv_relax['base_final_scf']['pw']['metadata']['options'].update({'max_wallclock_seconds': time})\n",
    "    builder.ocv_relax['base_final_scf']['pw']['metadata']['options']['resources']['num_machines'] = num_machines\n",
    "    builder.ocv_relax['base_final_scf']['pw']['metadata']['options']['resources']['num_mpiprocs_per_machine'] = num_mpiprocs_per_machine\n",
    "    builder.ocv_relax['base_final_scf']['pw']['metadata']['options']['resources']['num_cores_per_mpiproc'] = num_cores_per_mpiproc\n",
    "    builder.ocv_relax['base_final_scf']['pw']['parameters']['ELECTRONS']['electron_maxstep'] = 250\n",
    "\n",
    "    # Keep a small value as it will probably finish in a few minutes even on a small cluster\n",
    "    if bulk_cation_structure:\n",
    "        builder.scf['pw']['metadata']['options']['max_wallclock_seconds'] = 1800\n",
    "        builder.scf['pw']['metadata']['options']['resources']['num_machines'] = 1\n",
    "        builder.scf['pw']['metadata']['options']['resources']['num_mpiprocs_per_machine'] = num_mpiprocs_per_machine\n",
    "        builder.scf['pw']['metadata']['options']['resources']['num_cores_per_mpiproc'] = num_cores_per_mpiproc\n",
    "        builder.scf['pw']['parameters']['ELECTRONS']['electron_maxstep'] = 100\n",
    "        builder.scf.pw.parallelization = orm.Dict(dict={'npool': int(npool/num_machines)})\n",
    "\n",
    "    builder.ocv_parameters['distance'] = 8.0\n",
    "\n",
    "    # Don't forget to change following to 'Mg' incase you use MgMo3S4 as the structure\n",
    "    # otherwise leave 'Li' or empty as 'Li' is the defult value\n",
    "    builder.ocv_parameters['cation'] = 'Li'\n",
    "\n",
    "    return builder"
   ]
  },
  {
   "cell_type": "code",
   "execution_count": null,
   "metadata": {},
   "outputs": [],
   "source": [
    "## Submitting the OCVWorkChain\n",
    "\n",
    "builder = submit_OCV_workchain(structure=structure, code=code, bulk_cation_structure=bulk_cation_structure)\n",
    "# Submitting the builder to launch the WorkChain\n",
    "submit(builder)"
   ]
  },
  {
   "attachments": {},
   "cell_type": "markdown",
   "metadata": {},
   "source": [
    "### Using a json file as default input "
   ]
  },
  {
   "cell_type": "code",
   "execution_count": null,
   "metadata": {},
   "outputs": [],
   "source": [
    "## Using a json file which contains all the necessary inputs to launch the OCVWorkChain\n",
    "\n",
    "OCVWorkChain = WorkflowFactory('quantumespresso.ocv.ocvwc')\n",
    "\n",
    "builder = OCVWorkChain.get_builder_from_json('json_inputs/Li_olivine.json', overrides=overrides)\n",
    "\n",
    "builder.ocv_relax['base']['pw']['parameters']['ELECTRONS']['electron_maxstep'] = 200\n",
    "\n",
    "builder.ocv_relax['base']['pw']['metadata']['options']['max_wallclock_seconds'] = time\n",
    "builder.ocv_relax['base']['pw']['metadata']['options']['resources']['num_machines'] = num_machines\n",
    "builder.ocv_relax['base']['pw']['metadata']['options']['resources']['num_mpiprocs_per_machine'] = num_mpiprocs_per_machine\n",
    "builder.ocv_relax['base']['pw']['metadata']['options']['resources']['num_cores_per_mpiproc'] = num_cores_per_mpiproc\n",
    "\n",
    "builder.ocv_relax['base_final_scf']['pw']['metadata']['options']['max_wallclock_seconds'] = time\n",
    "builder.ocv_relax['base_final_scf']['pw']['metadata']['options']['resources']['num_machines'] = num_machines\n",
    "builder.ocv_relax['base_final_scf']['pw']['metadata']['options']['resources']['num_mpiprocs_per_machine'] = num_mpiprocs_per_machine\n",
    "builder.ocv_relax['base_final_scf']['pw']['metadata']['options']['resources']['num_cores_per_mpiproc'] = num_cores_per_mpiproc\n",
    "builder.ocv_relax['base_final_scf']['pw']['parameters']['ELECTRONS']['electron_maxstep'] = 250\n",
    "\n",
    "builder.ocv_relax['max_meta_convergence_iterations'] = orm.Int(5)\n",
    "\n",
    "# Keep a small value as it will probably finish in a few minutes even on a small cluster\n",
    "builder.scf['pw']['metadata']['options']['max_wallclock_seconds'] = 1800\n",
    "builder.scf['pw']['metadata']['options']['resources']['num_machines'] = 1\n",
    "builder.scf['pw']['metadata']['options']['resources']['num_mpiprocs_per_machine'] = num_mpiprocs_per_machine\n",
    "builder.scf['pw']['metadata']['options']['resources']['num_cores_per_mpiproc'] = num_cores_per_mpiproc\n",
    "builder.scf['pw']['parameters']['ELECTRONS']['electron_maxstep'] = 100\n",
    "\n",
    "builder.ocv_parameters['distance'] = 8.0\n",
    "\n",
    "# Submitting the builder to launch the WorkChain\n",
    "submit(builder)"
   ]
  }
 ],
 "metadata": {
  "interpreter": {
   "hash": "b36537676a8ce6951dde65c3b5ae50eecb6b93cacc80bb86d49c86ade4bb33c4"
  },
  "kernelspec": {
   "display_name": "Python 3.8.10 64-bit ('aiida': conda)",
   "language": "python",
   "name": "python3"
  },
  "language_info": {
   "codemirror_mode": {
    "name": "ipython",
    "version": 3
   },
   "file_extension": ".py",
   "mimetype": "text/x-python",
   "name": "python",
   "nbconvert_exporter": "python",
   "pygments_lexer": "ipython3",
   "version": "3.8.13"
  },
  "orig_nbformat": 4
 },
 "nbformat": 4,
 "nbformat_minor": 2
}
