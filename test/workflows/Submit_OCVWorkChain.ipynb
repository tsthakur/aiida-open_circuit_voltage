{
 "cells": [
  {
   "cell_type": "code",
   "execution_count": 1,
   "metadata": {},
   "outputs": [],
   "source": [
    "from aiida import load_profile, orm\n",
    "## Load your profile here\n",
    "load_profile('bandgap') \n",
    "from aiida.plugins import WorkflowFactory\n",
    "from aiida.engine import submit"
   ]
  },
  {
   "cell_type": "code",
   "execution_count": 2,
   "metadata": {},
   "outputs": [
    {
     "data": {
      "text/plain": [
       "[<StructureData: uuid: b9af201f-1b55-4446-8e19-b66f0c8e1afc (pk: 96967)>,\n",
       " <StructureData: uuid: e0356f5c-114b-4251-9ea2-e8b78f0440f1 (pk: 97168)>,\n",
       " <StructureData: uuid: cc4cdb94-8ded-415c-9706-c918a1408298 (pk: 97242)>]"
      ]
     },
     "execution_count": 2,
     "metadata": {},
     "output_type": "execute_result"
    }
   ],
   "source": [
    "qb = orm.QueryBuilder()\n",
    "qb.append(orm.StructureData, filters={'id':{'in':[4182]}})\n",
    "qb.append(WorkflowFactory('quantumespresso.ocv.ocvwc'), tag='smearing_pw')\n",
    "qb.append(WorkflowFactory('quantumespresso.pw.relax'))\n",
    "qb.append(orm.StructureData)\n",
    "qb.all(flat=True)"
   ]
  },
  {
   "cell_type": "code",
   "execution_count": 5,
   "metadata": {},
   "outputs": [
    {
     "data": {
      "text/plain": [
       "<WorkChainNode: uuid: 7ac6e87a-cdf0-4c10-bac5-654f9f7ddc66 (pk: 97418) (aiida.workflows:quantumespresso.ocv.ocvwc)>"
      ]
     },
     "execution_count": 5,
     "metadata": {},
     "output_type": "execute_result"
    }
   ],
   "source": [
    "submit_OCV_workchain(orm.load_node(4182), code, overrides, qb.all(flat=True)[-2], qb.all(flat=True)[-1])"
   ]
  },
  {
   "cell_type": "code",
   "execution_count": 3,
   "metadata": {},
   "outputs": [],
   "source": [
    "code = orm.load_code(label='pw-qe-6.5-sirius')\n",
    "overrides = {'pseudo_family': 'SSSP/1.1.2/PBEsol/efficiency'}\n",
    "## Use the bundled test structure here\n",
    "structure = orm.load_node('4522933d-83d8-4aba-a3a2-425a48cce792')"
   ]
  },
  {
   "cell_type": "code",
   "execution_count": 4,
   "metadata": {},
   "outputs": [],
   "source": [
    "## Submitting the OCVWorkChain\n",
    "def submit_OCV_workchain(structure, code, overrides, discharged_unitcell_relaxed, charged_unitcell_relaxed, time=3600, num_machines=2, num_mpiprocs_per_machine=12, num_cores_per_mpiproc=1):\n",
    "\n",
    "    OCVWorkChain = WorkflowFactory('quantumespresso.ocv.ocvwc')\n",
    "\n",
    "    builder = OCVWorkChain.get_builder_from_protocol(code, structure=structure, overrides=overrides, discharged_unitcell_relaxed=discharged_unitcell_relaxed, charged_unitcell_relaxed=charged_unitcell_relaxed)    \n",
    "\n",
    "    builder.update({'clean_workdir':orm.Bool(False)})\n",
    "\n",
    "    builder.ocv_relax['base']['pw']['metadata']['options'].update({'max_wallclock_seconds': time})\n",
    "    builder.ocv_relax['base']['pw']['metadata']['options']['resources']['num_machines'] = num_machines\n",
    "    builder.ocv_relax['base']['pw']['metadata']['options']['resources']['num_mpiprocs_per_machine'] = num_mpiprocs_per_machine\n",
    "    builder.ocv_relax['base']['pw']['metadata']['options']['resources']['num_cores_per_mpiproc'] = num_cores_per_mpiproc\n",
    "\n",
    "    builder.ocv_relax['base_final_scf']['pw']['metadata']['options'].update({'max_wallclock_seconds': time})\n",
    "    builder.ocv_relax['base_final_scf']['pw']['metadata']['options']['resources']['num_machines'] = num_machines\n",
    "    builder.ocv_relax['base_final_scf']['pw']['metadata']['options']['resources']['num_mpiprocs_per_machine'] = num_mpiprocs_per_machine\n",
    "    builder.ocv_relax['base_final_scf']['pw']['metadata']['options']['resources']['num_cores_per_mpiproc'] = num_cores_per_mpiproc\n",
    "    builder.ocv_parameters['distance'] = 4\n",
    "    \n",
    "    ## LFPO specific parameters\n",
    "    # builder.ocv_relax['base']['pw']['parameters']['SYSTEM']['smearing'] = 'gauss'\n",
    "    # builder.ocv_relax['base']['pw']['parameters']['SYSTEM']['degauss'] = 0.005 \n",
    "    # builder.ocv_relax['base']['pw']['parameters']['SYSTEM']['starting_magnetization(1)'] = 0.5\n",
    "    # builder.ocv_relax['base']['pw']['parameters']['SYSTEM']['starting_magnetization(2)'] = -0.5\n",
    "\n",
    "    # builder.ocv_relax['base']['pw']['parameters']['ELECTRONS']['diagonalization'] = 'david'\n",
    "    # builder.ocv_relax['base']['pw']['parameters']['ELECTRONS']['mixing_mode'] = 'local-TF'\n",
    "    # builder.ocv_relax['base']['pw']['parameters']['ELECTRONS']['mixing_beta'] = 0.1\n",
    "    # builder.ocv_relax['base']['pw']['parameters']['ELECTRONS']['electron_maxstep'] = 500\n",
    "\n",
    "    # builder.ocv_relax['base_final_scf']['pw']['parameters']['SYSTEM']['smearing'] = 'mv'\n",
    "    # builder.ocv_relax['base_final_scf']['pw']['parameters']['SYSTEM']['degauss'] = 0.005 \n",
    "    # builder.ocv_relax['base_final_scf']['pw']['parameters']['SYSTEM']['starting_magnetization(1)'] = 0.5\n",
    "    # builder.ocv_relax['base_final_scf']['pw']['parameters']['SYSTEM']['starting_magnetization(2)'] = -0.5\n",
    "\n",
    "    # builder.ocv_relax['base_final_scf']['pw']['parameters']['ELECTRONS']['diagonalization'] = 'david'\n",
    "    # builder.ocv_relax['base_final_scf']['pw']['parameters']['ELECTRONS']['mixing_mode'] = 'local-TF'\n",
    "    # builder.ocv_relax['base_final_scf']['pw']['parameters']['ELECTRONS']['mixing_beta'] = 0.1\n",
    "    # builder.ocv_relax['base_final_scf']['pw']['parameters']['ELECTRONS']['electron_maxstep'] = 700\n",
    "    # builder.ocv_relax['base_final_scf']['pw']['parameters']['ELECTRONS']['conv_thr'] = 5e-8\n",
    "\n",
    "    return submit(builder)"
   ]
  }
 ],
 "metadata": {
  "interpreter": {
   "hash": "b36537676a8ce6951dde65c3b5ae50eecb6b93cacc80bb86d49c86ade4bb33c4"
  },
  "kernelspec": {
   "display_name": "Python 3.8.10 64-bit ('aiida': conda)",
   "language": "python",
   "name": "python3"
  },
  "language_info": {
   "codemirror_mode": {
    "name": "ipython",
    "version": 3
   },
   "file_extension": ".py",
   "mimetype": "text/x-python",
   "name": "python",
   "nbconvert_exporter": "python",
   "pygments_lexer": "ipython3",
   "version": "3.8.10"
  },
  "orig_nbformat": 4
 },
 "nbformat": 4,
 "nbformat_minor": 2
}
