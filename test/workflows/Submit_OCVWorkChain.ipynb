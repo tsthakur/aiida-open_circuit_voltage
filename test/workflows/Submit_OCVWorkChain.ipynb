{
 "cells": [
  {
   "cell_type": "code",
   "execution_count": 1,
   "metadata": {},
   "outputs": [],
   "source": [
    "from aiida import load_profile, orm\n",
    "## Indicate your profile name here\n",
    "your_profile_name = 'bandgap'\n",
    "load_profile(your_profile_name) \n",
    "from aiida.plugins import WorkflowFactory\n",
    "from aiida.engine import submit"
   ]
  },
  {
   "cell_type": "code",
   "execution_count": 22,
   "metadata": {},
   "outputs": [
    {
     "data": {
      "text/plain": [
       "<WorkChainNode: uuid: ce46e557-c646-4305-94ed-45e52995bdc8 (pk: 110535) (aiida.workflows:quantumespresso.ocv.ocvwc)>"
      ]
     },
     "execution_count": 22,
     "metadata": {},
     "output_type": "execute_result"
    }
   ],
   "source": [
    "code = orm.load_code(label='pw_7_eiger@eiger')\n",
    "overrides = {'pseudo_family': 'SSSP/1.1.2/PBEsol/efficiency'}\n",
    "## Use the bundled test structure here\n",
    "structure = orm.load_node('4522933d-83d8-4aba-a3a2-425a48cce792') # Fe4Li4O16P4 \n",
    "# structure = orm.load_node('27e971ab-fa24-4e01-af91-bc7badb4e23b') # Mg4Mn8O16 \n",
    "\n",
    "submit_OCV_workchain(structure, code, overrides)"
   ]
  },
  {
   "cell_type": "code",
   "execution_count": 21,
   "metadata": {},
   "outputs": [],
   "source": [
    "## Submitting the OCVWorkChain\n",
    "def submit_OCV_workchain(structure, code, overrides, protocol='fast', discharged_unitcell_relaxed=None, charged_unitcell_relaxed=None, \n",
    "                        time=43200, num_machines=4, num_mpiprocs_per_machine=128, num_cores_per_mpiproc=1):\n",
    "\n",
    "    OCVWorkChain = WorkflowFactory('quantumespresso.ocv.ocvwc')\n",
    "\n",
    "    builder = OCVWorkChain.get_builder_from_protocol(code, structure=structure, overrides=overrides, protocol=protocol, discharged_unitcell_relaxed=discharged_unitcell_relaxed, \n",
    "                                                    charged_unitcell_relaxed=charged_unitcell_relaxed)\n",
    "\n",
    "    builder.update({'clean_workdir':orm.Bool(False)})\n",
    "\n",
    "    ## Following QE options may or may not be necessary to tweak to relax the structures \n",
    "\n",
    "    builder.ocv_relax['base']['pw']['metadata']['options'].update({'max_wallclock_seconds': time})\n",
    "    builder.ocv_relax['base']['pw']['metadata']['options']['resources']['num_machines'] = num_machines\n",
    "    builder.ocv_relax['base']['pw']['metadata']['options']['resources']['num_mpiprocs_per_machine'] = num_mpiprocs_per_machine\n",
    "    builder.ocv_relax['base']['pw']['metadata']['options']['resources']['num_cores_per_mpiproc'] = num_cores_per_mpiproc\n",
    "    builder.ocv_relax['base']['pw']['parallelization']['npool'] = 8\n",
    "\n",
    "    builder.ocv_relax['base_final_scf']['pw']['metadata']['options'].update({'max_wallclock_seconds': time})\n",
    "    builder.ocv_relax['base_final_scf']['pw']['metadata']['options']['resources']['num_machines'] = num_machines\n",
    "    builder.ocv_relax['base_final_scf']['pw']['metadata']['options']['resources']['num_mpiprocs_per_machine'] = num_mpiprocs_per_machine\n",
    "    builder.ocv_relax['base_final_scf']['pw']['metadata']['options']['resources']['num_cores_per_mpiproc'] = num_cores_per_mpiproc\n",
    "    builder.ocv_relax['base_final_scf']['pw']['parallelization']['npool'] = 8\n",
    "    builder.ocv_parameters['distance'] = 8\n",
    "    # builder.ocv_parameters['discharged_energy'] = -3936.9862933936\n",
    "    # builder.ocv_parameters['charged_energy'] = -3541.4952435868\n",
    "    \n",
    "    # LFPO specific parameters\n",
    "    builder.ocv_relax['base']['pw']['parameters']['SYSTEM']['smearing'] = 'gauss'\n",
    "    builder.ocv_relax['base']['pw']['parameters']['SYSTEM']['degauss'] = 0.005 \n",
    "    builder.ocv_relax['base']['pw']['parameters']['SYSTEM']['starting_magnetization(1)'] = 0.5\n",
    "    builder.ocv_relax['base']['pw']['parameters']['SYSTEM']['starting_magnetization(2)'] = -0.5\n",
    "\n",
    "    builder.ocv_relax['base']['pw']['parameters']['ELECTRONS']['diagonalization'] = 'david'\n",
    "    builder.ocv_relax['base']['pw']['parameters']['ELECTRONS']['mixing_mode'] = 'local-TF'\n",
    "    builder.ocv_relax['base']['pw']['parameters']['ELECTRONS']['mixing_beta'] = 0.1\n",
    "    builder.ocv_relax['base']['pw']['parameters']['ELECTRONS']['electron_maxstep'] = 500\n",
    "    builder.ocv_relax['base']['pw']['parameters']['CONTROL']['nstep'] = 100\n",
    "\n",
    "    # builder.ocv_relax['base']['pw']['parameters']['IONS']['upscale'] = 10000\n",
    "    # builder.ocv_relax['base']['pw']['parameters']['CELL']['cell_factor'] = 4\n",
    "    # Options to decrease precision manyfolds\n",
    "    # builder.ocv_relax['base']['pw']['parameters']['ELECTRONS']['conv_thr'] = 5e-5\n",
    "    # builder.ocv_relax['base']['pw']['parameters']['CONTROL']['etot_conv_thr'] = 5e-3\n",
    "    # builder.ocv_relax['base']['pw']['parameters']['CONTROL']['forc_conv_thr'] = 1e-3\n",
    "\n",
    "    builder.ocv_relax['base_final_scf']['pw']['parameters']['SYSTEM']['smearing'] = 'mv'\n",
    "    builder.ocv_relax['base_final_scf']['pw']['parameters']['SYSTEM']['degauss'] = 0.005 \n",
    "    builder.ocv_relax['base_final_scf']['pw']['parameters']['SYSTEM']['starting_magnetization(1)'] = 0.5\n",
    "    builder.ocv_relax['base_final_scf']['pw']['parameters']['SYSTEM']['starting_magnetization(2)'] = -0.5\n",
    "\n",
    "    builder.ocv_relax['base_final_scf']['pw']['parameters']['ELECTRONS']['diagonalization'] = 'david'\n",
    "    builder.ocv_relax['base_final_scf']['pw']['parameters']['ELECTRONS']['mixing_mode'] = 'local-TF'\n",
    "    builder.ocv_relax['base_final_scf']['pw']['parameters']['ELECTRONS']['mixing_beta'] = 0.1\n",
    "    builder.ocv_relax['base_final_scf']['pw']['parameters']['ELECTRONS']['electron_maxstep'] = 700\n",
    "    builder.ocv_relax['base_final_scf']['pw']['parameters']['ELECTRONS']['conv_thr'] = 5e-8\n",
    "    # builder.ocv_relax['base_final_scf']['pw']['parameters']['CELL']['cell_factor'] = 2\n",
    "    # builder.ocv_relax['base_final_scf']['pw']['parameters']['CONTROL']['etot_conv_thr'] = 5e-3\n",
    "    # builder.ocv_relax['base_final_scf']['pw']['parameters']['CONTROL']['forc_conv_thr'] = 1e-3\n",
    "\n",
    "    return submit(builder)"
   ]
  }
 ],
 "metadata": {
  "interpreter": {
   "hash": "b36537676a8ce6951dde65c3b5ae50eecb6b93cacc80bb86d49c86ade4bb33c4"
  },
  "kernelspec": {
   "display_name": "Python 3.8.10 64-bit ('aiida': conda)",
   "language": "python",
   "name": "python3"
  },
  "language_info": {
   "codemirror_mode": {
    "name": "ipython",
    "version": 3
   },
   "file_extension": ".py",
   "mimetype": "text/x-python",
   "name": "python",
   "nbconvert_exporter": "python",
   "pygments_lexer": "ipython3",
   "version": "3.8.13"
  },
  "orig_nbformat": 4
 },
 "nbformat": 4,
 "nbformat_minor": 2
}
